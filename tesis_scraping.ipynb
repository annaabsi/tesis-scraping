{
 "cells": [
  {
   "cell_type": "code",
   "execution_count": null,
   "metadata": {},
   "outputs": [],
   "source": [
    "import pandas as pd\n",
    "from requests_html import HTMLSession\n",
    "session = HTMLSession()\n",
    "\n",
    "topics = [\n",
    "    \"acoso+escolar\",\n",
    "    \"violencia+de+genero\",\n",
    "    \"bullying\",\n",
    "    \"tratamiento+periodistico\",\n",
    "    \"bienestar+psicologico\",\n",
    "    \"aborto\",\n",
    "    \"habilidades+sociales\",\n",
    "    \"actitudes+sexistas\",\n",
    "    \"actitudes+maternas\",\n",
    "    \"marketing+digital\",\n",
    "    \"gestion+de+ventas\",\n",
    "    \"estrategias+de+marketing\",\n",
    "    \"fidelizacion\"\n",
    "]"
   ]
  },
  {
   "cell_type": "code",
   "execution_count": null,
   "metadata": {},
   "outputs": [],
   "source": [
    "for year in [2019, 2020, 2021]:\n",
    "    for topic in topics:\n",
    "        for page in range(200):\n",
    "            # repositorio UCV\n",
    "            pdf_links = []\n",
    "            r = session.get(f'https://repositorio.ucv.edu.pe/discover?rpp=10&etal=0&query=%22{topic}%22&scope=/&group_by=none&page={page}&sort_by=score&order=desc&filtertype_0=dateIssued&filter_relational_operator_0=contains&filter_0={year}')\n",
    "            links = r.html.find('.img-thumbnail')\n",
    "            for link in links:\n",
    "                img = link.xpath('//img')[0]\n",
    "                img_src = img.attrs['src'].split('.jpg')[0]\n",
    "                pdf_src = 'https://repositorio.ucv.edu.pe' + img_src\n",
    "                pdf_links.append(pdf_src)\n",
    "            df = pd.DataFrame(pdf_links)\n",
    "            df.to_csv(f'UCV_{year}_{topic}_pdf_links.csv', header=False)"
   ]
  }
 ],
 "metadata": {
  "interpreter": {
   "hash": "916dbcbb3f70747c44a77c7bcd40155683ae19c65e1c03b4aa3499c5328201f1"
  },
  "kernelspec": {
   "display_name": "Python 3.9.7 64-bit",
   "language": "python",
   "name": "python3"
  },
  "language_info": {
   "codemirror_mode": {
    "name": "ipython",
    "version": 3
   },
   "file_extension": ".py",
   "mimetype": "text/x-python",
   "name": "python",
   "nbconvert_exporter": "python",
   "pygments_lexer": "ipython3",
   "version": "3.9.7"
  },
  "orig_nbformat": 4
 },
 "nbformat": 4,
 "nbformat_minor": 2
}
